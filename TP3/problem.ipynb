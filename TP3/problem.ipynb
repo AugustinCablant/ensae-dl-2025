{
 "cells": [
  {
   "cell_type": "code",
   "execution_count": 1,
   "metadata": {},
   "outputs": [],
   "source": [
    "# MNIST with an MLP, from scratch\n",
    "\n",
    "# - Step 1: build an MLP from scratch to solve MNIST. Question set: https://fleuret.org/dlc/materials/dlc-practical-3.pdf\n",
    "# - Step 2: debug your network with backprop ninja and a reference implementation using torch's .backward()\n",
    "# - Step 3: build the same MLP but will full pytorch code (nn.Linear, etc.)"
   ]
  },
  {
   "cell_type": "code",
   "execution_count": 2,
   "metadata": {},
   "outputs": [],
   "source": [
    "import math\n",
    "import torch\n",
    "from torch import nn\n",
    "import matplotlib.pyplot as plt\n",
    "%matplotlib inline"
   ]
  },
  {
   "cell_type": "code",
   "execution_count": 3,
   "metadata": {},
   "outputs": [],
   "source": [
    "from utils import load_data"
   ]
  },
  {
   "cell_type": "code",
   "execution_count": 4,
   "metadata": {},
   "outputs": [
    {
     "name": "stdout",
     "output_type": "stream",
     "text": [
      "* Using MNIST\n",
      "** Reduce the data-set (use --full for the full thing)\n",
      "** Use 1000 train and 1000 test samples\n"
     ]
    }
   ],
   "source": [
    "train_input, train_target, test_input, test_target = load_data(one_hot_labels = True, normalize = True)"
   ]
  },
  {
   "cell_type": "code",
   "execution_count": 5,
   "metadata": {},
   "outputs": [
    {
     "data": {
      "image/png": "[encoded data removed]",
      "text/plain": [
       "<Figure size 640x480 with 1 Axes>"
      ]
     },
     "metadata": {},
     "output_type": "display_data"
    }
   ],
   "source": [
    "plt.imshow(train_input[4].view((28,28)))\n",
    "plt.show()"
   ]
  },
  {
   "cell_type": "code",
   "execution_count": 6,
   "metadata": {},
   "outputs": [],
   "source": [
    "def compute_accuracy (preds, targets):\n",
    "    \"\"\" Computes the accuracy between predictions and targets. Data is expected to be one-hot encoded. \"\"\"\n",
    "    _, idx1 = torch.max(preds, dim=1)\n",
    "    _, idx2 = torch.max(targets, dim=1)\n",
    "    d = idx1 == idx2\n",
    "    return d.int().float().mean().item()"
   ]
  },
  {
   "cell_type": "code",
   "execution_count": 7,
   "metadata": {},
   "outputs": [
    {
     "data": {
      "text/plain": [
       "0.75"
      ]
     },
     "execution_count": 7,
     "metadata": {},
     "output_type": "execute_result"
    }
   ],
   "source": [
    "# unit test\n",
    "# this cell should return 0.75\n",
    "preds = torch.zeros((4,7))\n",
    "preds[0,1] = 1\n",
    "preds[1,4] = 1\n",
    "preds[2,2] = 1\n",
    "preds[3,6] = 1\n",
    "targets = torch.zeros((4,7))\n",
    "targets[0,1] = 1\n",
    "targets[1,4] = 1\n",
    "targets[2,2] = 1\n",
    "targets[3,2] = 1\n",
    "compute_accuracy(preds, targets)"
   ]
  },
  {
   "cell_type": "code",
   "execution_count": 8,
   "metadata": {},
   "outputs": [],
   "source": [
    "def sigma(x):\n",
    "    return torch.tanh(x)\n",
    "\n",
    "def dsigma(x):\n",
    "    return 1 - torch.tanh(x)**2"
   ]
  },
  {
   "cell_type": "code",
   "execution_count": 38,
   "metadata": {},
   "outputs": [],
   "source": [
    "def loss (v,t):\n",
    "    return torch.sum(torch.pow(input=v-t, exponent=2))\n",
    "\n",
    "def dloss(v,t):\n",
    "    return 2 * (v-t)"
   ]
  },
  {
   "cell_type": "code",
   "execution_count": 19,
   "metadata": {},
   "outputs": [
    {
     "data": {
      "text/plain": [
       "tensor([[ 1.7325, -1.0175,  0.3882,  1.3850, -0.2000, -2.0367],\n",
       "        [ 5.0491, -4.5309, -4.6107, -3.5940,  0.9823, -3.2926],\n",
       "        [-4.3955,  0.9223, -1.2935, -1.6384, -2.5440, -1.6782]])"
      ]
     },
     "execution_count": 19,
     "metadata": {},
     "output_type": "execute_result"
    }
   ],
   "source": [
    "# sanity check\n",
    "v = torch.randn((3, 6), dtype=torch.float32)\n",
    "t = torch.randn((3, 6), dtype=torch.float32)\n",
    "l=loss(v,t)\n",
    "dloss(v,t)"
   ]
  },
  {
   "cell_type": "code",
   "execution_count": 20,
   "metadata": {},
   "outputs": [],
   "source": [
    "# multiply targets by 0.9 to be in the range of tanh\n",
    "train_target *= 0.9\n",
    "test_target *= 0.9"
   ]
  },
  {
   "cell_type": "markdown",
   "metadata": {},
   "source": [
    "### Step 1: Backprop ninja"
   ]
  },
  {
   "cell_type": "code",
   "execution_count": 21,
   "metadata": {},
   "outputs": [],
   "source": [
    "# utility function we will use later when comparing manual gradients to PyTorch gradients\n",
    "# DO NOT MODIFY IT\n",
    "#\n",
    "def cmp(s, dt, t):\n",
    "  ex = torch.all(dt == t.grad).item()\n",
    "  app = torch.allclose(dt, t.grad)\n",
    "  maxdiff = (dt - t.grad).abs().max().item()\n",
    "  print(f'{s:15s} | exact: {str(ex):5s} | approximate: {str(app):5s} | maxdiff: {maxdiff}')"
   ]
  },
  {
   "cell_type": "code",
   "execution_count": 22,
   "metadata": {},
   "outputs": [],
   "source": [
    "torch.manual_seed(1337)\n",
    "w1 = torch.randn((784, 50))\n",
    "b1 = torch.randn((50,))\n",
    "w2 = torch.randn((50, 10))\n",
    "b2 = torch.randn((10,))\n",
    "parameters = [w1, b1, w2, b2]\n",
    "for p in parameters:\n",
    "    p.requires_grad = True"
   ]
  },
  {
   "cell_type": "code",
   "execution_count": 24,
   "metadata": {},
   "outputs": [
    {
     "data": {
      "text/plain": [
       "(torch.Size([5, 10]), tensor(43.0514, grad_fn=<SumBackward0>))"
      ]
     },
     "execution_count": 24,
     "metadata": {},
     "output_type": "execute_result"
    }
   ],
   "source": [
    "x1 = train_input[:5]\n",
    "y1 = train_target[:5]\n",
    "z1 = x1 @ w1 + b1\n",
    "h1 = sigma(z1)\n",
    "z2 = h1 @ w2 + b2\n",
    "h2 = sigma(z2)\n",
    "l = loss(h2, y1)\n",
    "h2.shape, l"
   ]
  },
  {
   "cell_type": "code",
   "execution_count": 25,
   "metadata": {},
   "outputs": [
    {
     "name": "stdout",
     "output_type": "stream",
     "text": [
      "loss=43.05143356323242\n"
     ]
    }
   ],
   "source": [
    "# Force pytorch to retain grade for intermediate nodes and reset grad for parameters\n",
    "# DO NOT MODIFY THIS CODE\n",
    "#\n",
    "others = [h2,z2,h1,z1]\n",
    "for p in parameters:\n",
    "    p.grad = None\n",
    "for t in others:\n",
    "    t.retain_grad()\n",
    "l.backward()\n",
    "print(f'loss={l}')"
   ]
  },
  {
   "cell_type": "code",
   "execution_count": 27,
   "metadata": {},
   "outputs": [
    {
     "name": "stdout",
     "output_type": "stream",
     "text": [
      "h2              | exact: True  | approximate: True  | maxdiff: 0.0\n",
      "z2              | exact: False | approximate: True  | maxdiff: 2.7939677238464355e-09\n",
      "w2              | exact: False | approximate: True  | maxdiff: 2.9802322387695312e-08\n",
      "b2              | exact: True  | approximate: True  | maxdiff: 0.0\n",
      "h1              | exact: False | approximate: True  | maxdiff: 5.960464477539063e-08\n",
      "z1              | exact: False | approximate: True  | maxdiff: 4.842877388000488e-08\n",
      "w1              | exact: False | approximate: True  | maxdiff: 2.384185791015625e-07\n",
      "b1              | exact: False | approximate: True  | maxdiff: 4.842877388000488e-08\n"
     ]
    }
   ],
   "source": [
    "# here we compare our gradient to the reference gradient computed by pytorch\n",
    "dl = 1.0\n",
    "dh2 = dloss(h2, y1)*dl\n",
    "cmp('h2',dh2,h2)\n",
    "dz2 = dsigma(z2) * dh2\n",
    "cmp('z2',dz2, z2)\n",
    "dw2 = h1.T @ dz2 \n",
    "cmp('w2',dw2, w2)\n",
    "db2 = dz2.sum(axis=0, keepdim=True)\n",
    "cmp('b2',db2, b2)\n",
    "dh1 = dz2 @ w2.T \n",
    "cmp('h1',dh1, h1)\n",
    "dz1 = dsigma(z1) * dh1\n",
    "cmp('z1', dz1, z1)\n",
    "dw1 = x1.T @ dz1  \n",
    "cmp('w1', dw1, w1)\n",
    "db1 = dz1.sum(axis=0, keepdim=True)\n",
    "cmp('b1', db1, b1)\n"
   ]
  },
  {
   "cell_type": "code",
   "execution_count": 28,
   "metadata": {},
   "outputs": [],
   "source": [
    "lr = 0.1\n",
    "with torch.no_grad():\n",
    "    w1 += -lr * dw1\n",
    "    b1 += -lr * db1.squeeze()\n",
    "    w2 += -lr * dw2\n",
    "    b2 += -lr * db2.squeeze()"
   ]
  },
  {
   "cell_type": "code",
   "execution_count": 29,
   "metadata": {},
   "outputs": [
    {
     "data": {
      "text/plain": [
       "43.05143356323242"
      ]
     },
     "execution_count": 29,
     "metadata": {},
     "output_type": "execute_result"
    }
   ],
   "source": [
    "l = loss(h2, y1)\n",
    "l.item()"
   ]
  },
  {
   "cell_type": "markdown",
   "metadata": {},
   "source": [
    "##### Now that we've checked our gradients are correct, we can implement the network"
   ]
  },
  {
   "cell_type": "code",
   "execution_count": 30,
   "metadata": {},
   "outputs": [],
   "source": [
    "def forward(w1, b1, w2, b2, x):\n",
    "    z1 = x @ w1 + b1\n",
    "    h1 = sigma(z1)\n",
    "    z2 = h1 @ w2 + b2\n",
    "    h2 = sigma(z2)\n",
    "    return z1, h1, z2, h2"
   ]
  },
  {
   "cell_type": "code",
   "execution_count": 31,
   "metadata": {},
   "outputs": [],
   "source": [
    "def backward(w1, b1, w2, b2, x1, y1, h2, z2, h1, z1):\n",
    "    dl = 1.0\n",
    "    dh2 = dloss(h2, y1) * dl\n",
    "    dz2 = dsigma(z2)*dh2\n",
    "    dw2 = h1.T @ dz2 \n",
    "    db2 = dz2.sum(axis=0, keepdim=True)\n",
    "    dh1 = dz2 @ w2.T \n",
    "    dz1 = dsigma(z1) * dh1\n",
    "    dw1 = x1.T @ dz1 \n",
    "    db1 = dz1.sum(axis=0, keepdim=True)\n",
    "    return dw1, db1, dw2, db2"
   ]
  },
  {
   "cell_type": "code",
   "execution_count": 33,
   "metadata": {},
   "outputs": [],
   "source": [
    "def update(w1, b1, w2, b2, dw1, db1, dw2, db2, lr):\n",
    "    with torch.no_grad():\n",
    "        w1 -= lr * dw1\n",
    "        b1 -= lr * db1.squeeze()\n",
    "        w2 -= lr * dw2\n",
    "        b2 -= lr * db2.squeeze()\n",
    "    return w1, b1, w2, b2"
   ]
  },
  {
   "cell_type": "code",
   "execution_count": 34,
   "metadata": {},
   "outputs": [],
   "source": [
    "def init():\n",
    "    \"\"\" init a network \"\"\"\n",
    "    torch.manual_seed(2025)\n",
    "    w1 = torch.randn((784, 50))\n",
    "    b1 = torch.zeros((50,))\n",
    "    w2 = torch.randn((50, 10))\n",
    "    b2 = torch.zeros((10,))\n",
    "    return w1, b1, w2, b2"
   ]
  },
  {
   "cell_type": "code",
   "execution_count": 35,
   "metadata": {},
   "outputs": [],
   "source": [
    "w1, b1, w2, b2 = init()\n",
    "parameters = [w1, b1, w2, b2]\n",
    "for p in parameters:\n",
    "    p.requires_grad_(True)"
   ]
  },
  {
   "cell_type": "code",
   "execution_count": 54,
   "metadata": {},
   "outputs": [],
   "source": [
    "# main training loop\n",
    "torch.set_printoptions(linewidth=200)\n",
    "def train(w1, b1, w2, b2):\n",
    "    lossi = []\n",
    "    for step in range(10000):\n",
    "        xb = train_input\n",
    "        yb = train_target\n",
    "        num_samples = xb.shape[0]\n",
    "        # forward\n",
    "        z1, h1, z2, h2 = forward(w1, b1, w2, b2, xb)\n",
    "        lsi = loss(h2, yb)\n",
    "        # backward\n",
    "        dw1, db1, dw2, db2 = backward(w1, b1, w2, b2, xb, yb, h2, z2, h1, z1)\n",
    "        # update\n",
    "        lr = 0.1 / num_samples if step < 5000 else 0.01 / num_samples\n",
    "        w1, b1, w2, b2 = update(w1, b1, w2, b2, dw1, db1, dw2, db2, lr)\n",
    "        if step % 100 == 0: print(f'step = {step}, loss = {lsi}')\n",
    "        lossi.append(lsi.item())\n",
    "    # compute accuracy\n",
    "    _, _, _, preds = forward(w1, b1, w2, b2, train_input)\n",
    "    train_accuracy = compute_accuracy(preds, train_target)\n",
    "    _, _, _, preds = forward(w1, b1, w2, b2, test_input)\n",
    "    test_accuracy = compute_accuracy(preds, test_target)\n",
    "    print(f'{train_accuracy=}')\n",
    "    print(f'{test_accuracy=}')\n",
    "    return lossi     "
   ]
  },
  {
   "cell_type": "code",
   "execution_count": 55,
   "metadata": {},
   "outputs": [
    {
     "name": "stdout",
     "output_type": "stream",
     "text": [
      "step = 0, loss = 9434.857421875\n",
      "step = 100, loss = 8227.611328125\n",
      "step = 200, loss = 7892.2666015625\n",
      "step = 300, loss = 7642.99072265625\n",
      "step = 400, loss = 7493.54833984375\n",
      "step = 500, loss = 7353.35205078125\n",
      "step = 600, loss = 7193.8408203125\n",
      "step = 700, loss = 7069.201171875\n",
      "step = 800, loss = 7003.50048828125\n",
      "step = 900, loss = 6847.2451171875\n",
      "step = 1000, loss = 6753.62353515625\n",
      "step = 1100, loss = 6614.6982421875\n",
      "step = 1200, loss = 6472.95849609375\n",
      "step = 1300, loss = 6318.484375\n",
      "step = 1400, loss = 6110.49365234375\n",
      "step = 1500, loss = 5759.22802734375\n",
      "step = 1600, loss = 5310.80078125\n",
      "step = 1700, loss = 4840.01220703125\n",
      "step = 1800, loss = 4686.5576171875\n",
      "step = 1900, loss = 4481.244140625\n",
      "step = 2000, loss = 3830.499267578125\n",
      "step = 2100, loss = 3486.5712890625\n",
      "step = 2200, loss = 3119.808349609375\n",
      "step = 2300, loss = 2840.640869140625\n",
      "step = 2400, loss = 2637.2998046875\n",
      "step = 2500, loss = 2213.78564453125\n",
      "step = 2600, loss = 1875.1607666015625\n",
      "step = 2700, loss = 1792.757568359375\n",
      "step = 2800, loss = 1715.001708984375\n",
      "step = 2900, loss = 1565.2933349609375\n",
      "step = 3000, loss = 1244.3916015625\n",
      "step = 3100, loss = 1180.845458984375\n",
      "step = 3200, loss = 1136.0726318359375\n",
      "step = 3300, loss = 1077.389892578125\n",
      "step = 3400, loss = 1000.2137451171875\n",
      "step = 3500, loss = 863.594970703125\n",
      "step = 3600, loss = 675.742919921875\n",
      "step = 3700, loss = 479.8797912597656\n",
      "step = 3800, loss = 396.6203308105469\n",
      "step = 3900, loss = 374.5198669433594\n",
      "step = 4000, loss = 363.8213195800781\n",
      "step = 4100, loss = 356.91217041015625\n",
      "step = 4200, loss = 352.02838134765625\n",
      "step = 4300, loss = 348.3146057128906\n",
      "step = 4400, loss = 345.20733642578125\n",
      "step = 4500, loss = 342.4681396484375\n",
      "step = 4600, loss = 340.18902587890625\n",
      "step = 4700, loss = 338.2530517578125\n",
      "step = 4800, loss = 336.4412841796875\n",
      "step = 4900, loss = 334.50286865234375\n",
      "step = 5000, loss = 332.1453857421875\n",
      "step = 5100, loss = 327.4491271972656\n",
      "step = 5200, loss = 327.2903137207031\n",
      "step = 5300, loss = 327.13140869140625\n",
      "step = 5400, loss = 326.9725036621094\n",
      "step = 5500, loss = 326.813720703125\n",
      "step = 5600, loss = 326.65533447265625\n",
      "step = 5700, loss = 326.4976806640625\n",
      "step = 5800, loss = 326.3409118652344\n",
      "step = 5900, loss = 326.1852111816406\n",
      "step = 6000, loss = 326.03076171875\n",
      "step = 6100, loss = 325.87750244140625\n",
      "step = 6200, loss = 325.7255859375\n",
      "step = 6300, loss = 325.57489013671875\n",
      "step = 6400, loss = 325.4253845214844\n",
      "step = 6500, loss = 325.27703857421875\n",
      "step = 6600, loss = 325.1297607421875\n",
      "step = 6700, loss = 324.98345947265625\n",
      "step = 6800, loss = 324.8381652832031\n",
      "step = 6900, loss = 324.6938171386719\n",
      "step = 7000, loss = 324.55035400390625\n",
      "step = 7100, loss = 324.40789794921875\n",
      "step = 7200, loss = 324.26641845703125\n",
      "step = 7300, loss = 324.1258544921875\n",
      "step = 7400, loss = 323.9862060546875\n",
      "step = 7500, loss = 323.84747314453125\n",
      "step = 7600, loss = 323.70953369140625\n",
      "step = 7700, loss = 323.572509765625\n",
      "step = 7800, loss = 323.436279296875\n",
      "step = 7900, loss = 323.3008728027344\n",
      "step = 8000, loss = 323.1661071777344\n",
      "step = 8100, loss = 323.03204345703125\n",
      "step = 8200, loss = 322.8984375\n",
      "step = 8300, loss = 322.7654113769531\n",
      "step = 8400, loss = 322.63275146484375\n",
      "step = 8500, loss = 322.5004577636719\n",
      "step = 8600, loss = 322.3685302734375\n",
      "step = 8700, loss = 322.2369689941406\n",
      "step = 8800, loss = 322.1056823730469\n",
      "step = 8900, loss = 321.9747619628906\n",
      "step = 9000, loss = 321.8442687988281\n",
      "step = 9100, loss = 321.7142333984375\n",
      "step = 9200, loss = 321.5846252441406\n",
      "step = 9300, loss = 321.4555969238281\n",
      "step = 9400, loss = 321.3271179199219\n",
      "step = 9500, loss = 321.19915771484375\n",
      "step = 9600, loss = 321.0716552734375\n",
      "step = 9700, loss = 320.94464111328125\n",
      "step = 9800, loss = 320.8182067871094\n",
      "step = 9900, loss = 320.6922912597656\n",
      "train_accuracy=0.828000009059906\n",
      "test_accuracy=0.6190000176429749\n"
     ]
    }
   ],
   "source": [
    "lossi = train(w1, b1, w2, b2)"
   ]
  },
  {
   "cell_type": "code",
   "execution_count": 56,
   "metadata": {},
   "outputs": [
    {
     "data": {
      "image/png": "[encoded data removed]",
      "text/plain": [
       "<Figure size 640x480 with 1 Axes>"
      ]
     },
     "metadata": {},
     "output_type": "display_data"
    }
   ],
   "source": [
    "plt.plot(lossi)\n",
    "plt.show()"
   ]
  },
  {
   "cell_type": "markdown",
   "metadata": {},
   "source": [
    "### Step 2: Reference implementation using pytorch's .backward()\n",
    "Nothing to do in Step 2, this code is provided for you as a reference"
   ]
  },
  {
   "cell_type": "code",
   "execution_count": 57,
   "metadata": {},
   "outputs": [],
   "source": [
    "w1, b1, w2, b2 = init()\n",
    "parameters = [w1, b1, w2, b2]\n",
    "for p in parameters:\n",
    "    p.requires_grad_(True)"
   ]
  },
  {
   "cell_type": "code",
   "execution_count": 58,
   "metadata": {},
   "outputs": [],
   "source": [
    "# reference code\n",
    "torch.set_printoptions(linewidth=200)\n",
    "import torch.nn as F\n",
    "\n",
    "def train(w1, b1, w2, b2):\n",
    "    lossi = []\n",
    "    for step in range(10000):\n",
    "        xb = train_input\n",
    "        yb = train_target\n",
    "        num_samples = xb.shape[0]\n",
    "        # forward\n",
    "        z1, h1, z2, h2 = forward(w1, b1, w2, b2, xb)\n",
    "        xloss = F.MSELoss()\n",
    "        lsi = xloss(h2, yb) * yb.nelement()\n",
    "        # backward\n",
    "        for p in parameters:\n",
    "            p.grad = None\n",
    "        lsi.backward()\n",
    "        # update\n",
    "        lr = 0.1 / num_samples\n",
    "        for p in parameters:\n",
    "            p.data += -lr * p.grad\n",
    "        if step % 100 == 0: print(f'step = {step}, loss = {lsi}')\n",
    "        lossi.append(lsi.item())\n",
    "    # compute accuracy\n",
    "    _, _, _, preds = forward(w1, b1, w2, b2, train_input)\n",
    "    train_accuracy = compute_accuracy(preds, train_target)\n",
    "    _, _, _, preds = forward(w1, b1, w2, b2, test_input)\n",
    "    test_accuracy = compute_accuracy(preds, test_target)\n",
    "    print(f'{train_accuracy=}')\n",
    "    print(f'{test_accuracy=}')\n",
    "    return lossi"
   ]
  },
  {
   "cell_type": "code",
   "execution_count": 59,
   "metadata": {},
   "outputs": [
    {
     "name": "stdout",
     "output_type": "stream",
     "text": [
      "step = 0, loss = 9434.857421875\n",
      "step = 100, loss = 8219.38671875\n",
      "step = 200, loss = 7872.0908203125\n",
      "step = 300, loss = 7666.02734375\n",
      "step = 400, loss = 7492.92333984375\n",
      "step = 500, loss = 7353.3369140625\n",
      "step = 600, loss = 7194.37109375\n",
      "step = 700, loss = 7086.01953125\n",
      "step = 800, loss = 6963.8544921875\n",
      "step = 900, loss = 6872.87353515625\n",
      "step = 1000, loss = 6725.68701171875\n",
      "step = 1100, loss = 6600.10107421875\n",
      "step = 1200, loss = 6450.20703125\n",
      "step = 1300, loss = 6274.89306640625\n",
      "step = 1400, loss = 6078.5361328125\n",
      "step = 1500, loss = 5693.34130859375\n",
      "step = 1600, loss = 5354.4140625\n",
      "step = 1700, loss = 4909.24169921875\n",
      "step = 1800, loss = 4651.65966796875\n",
      "step = 1900, loss = 4377.94140625\n",
      "step = 2000, loss = 3783.625\n",
      "step = 2100, loss = 3165.27197265625\n",
      "step = 2200, loss = 2916.92431640625\n",
      "step = 2300, loss = 2785.73193359375\n",
      "step = 2400, loss = 2402.256591796875\n",
      "step = 2500, loss = 2295.134521484375\n",
      "step = 2600, loss = 2168.2734375\n",
      "step = 2700, loss = 1828.420654296875\n",
      "step = 2800, loss = 1722.834716796875\n",
      "step = 2900, loss = 1607.972412109375\n",
      "step = 3000, loss = 1354.4122314453125\n",
      "step = 3100, loss = 1216.5213623046875\n",
      "step = 3200, loss = 1172.309814453125\n",
      "step = 3300, loss = 1123.6910400390625\n",
      "step = 3400, loss = 1062.172607421875\n",
      "step = 3500, loss = 983.3847045898438\n",
      "step = 3600, loss = 853.857421875\n",
      "step = 3700, loss = 604.8704833984375\n",
      "step = 3800, loss = 374.3300476074219\n",
      "step = 3900, loss = 353.3271789550781\n",
      "step = 4000, loss = 348.59698486328125\n",
      "step = 4100, loss = 352.7265319824219\n",
      "step = 4200, loss = 359.494384765625\n",
      "step = 4300, loss = 369.8116149902344\n",
      "step = 4400, loss = 369.4864501953125\n",
      "step = 4500, loss = 364.0986328125\n",
      "step = 4600, loss = 360.5458984375\n",
      "step = 4700, loss = 356.71087646484375\n",
      "step = 4800, loss = 351.92901611328125\n",
      "step = 4900, loss = 347.84844970703125\n",
      "step = 5000, loss = 345.8305969238281\n",
      "step = 5100, loss = 344.62054443359375\n",
      "step = 5200, loss = 343.266845703125\n",
      "step = 5300, loss = 341.6356506347656\n",
      "step = 5400, loss = 339.8293151855469\n",
      "step = 5500, loss = 338.1966552734375\n",
      "step = 5600, loss = 336.7227783203125\n",
      "step = 5700, loss = 335.252197265625\n",
      "step = 5800, loss = 333.67877197265625\n",
      "step = 5900, loss = 332.03948974609375\n",
      "step = 6000, loss = 330.9412536621094\n",
      "step = 6100, loss = 330.2835998535156\n",
      "step = 6200, loss = 329.94781494140625\n",
      "step = 6300, loss = 329.9201965332031\n",
      "step = 6400, loss = 330.1197204589844\n",
      "step = 6500, loss = 330.4322509765625\n",
      "step = 6600, loss = 330.7475280761719\n",
      "step = 6700, loss = 330.91357421875\n",
      "step = 6800, loss = 330.57391357421875\n",
      "step = 6900, loss = 329.3512268066406\n",
      "step = 7000, loss = 327.8200988769531\n",
      "step = 7100, loss = 326.46051025390625\n",
      "step = 7200, loss = 325.302978515625\n",
      "step = 7300, loss = 324.4853820800781\n",
      "step = 7400, loss = 324.01434326171875\n",
      "step = 7500, loss = 323.72216796875\n",
      "step = 7600, loss = 323.3185729980469\n",
      "step = 7700, loss = 322.5436096191406\n",
      "step = 7800, loss = 321.50689697265625\n",
      "step = 7900, loss = 320.4237060546875\n",
      "step = 8000, loss = 319.5980224609375\n",
      "step = 8100, loss = 319.0329895019531\n",
      "step = 8200, loss = 318.30731201171875\n",
      "step = 8300, loss = 317.29339599609375\n",
      "step = 8400, loss = 316.0336608886719\n",
      "step = 8500, loss = 314.6736755371094\n",
      "step = 8600, loss = 313.50543212890625\n",
      "step = 8700, loss = 312.7187194824219\n",
      "step = 8800, loss = 312.29547119140625\n",
      "step = 8900, loss = 312.0889587402344\n",
      "step = 9000, loss = 311.9297180175781\n",
      "step = 9100, loss = 311.66900634765625\n",
      "step = 9200, loss = 311.2021179199219\n",
      "step = 9300, loss = 310.58502197265625\n",
      "step = 9400, loss = 309.916015625\n",
      "step = 9500, loss = 309.11566162109375\n",
      "step = 9600, loss = 307.95318603515625\n",
      "step = 9700, loss = 306.2517395019531\n",
      "step = 9800, loss = 304.11273193359375\n",
      "step = 9900, loss = 302.06640625\n",
      "train_accuracy=0.8650000095367432\n",
      "test_accuracy=0.6209999918937683\n"
     ]
    }
   ],
   "source": [
    "lossi = train(w1, b1, w2, b2)"
   ]
  },
  {
   "cell_type": "code",
   "execution_count": 60,
   "metadata": {},
   "outputs": [
    {
     "data": {
      "image/png": "[encoded data removed]",
      "text/plain": [
       "<Figure size 640x480 with 1 Axes>"
      ]
     },
     "metadata": {},
     "output_type": "display_data"
    }
   ],
   "source": [
    "plt.plot(lossi)\n",
    "plt.show()"
   ]
  },
  {
   "cell_type": "markdown",
   "metadata": {},
   "source": [
    "### Step 3: Build the same MLP layer but with fully pytorch code (nn.Linear(), etc.)"
   ]
  },
  {
   "cell_type": "code",
   "execution_count": 61,
   "metadata": {},
   "outputs": [],
   "source": [
    "# network dimensions\n",
    "n_in = 784\n",
    "n_hidden = 200\n",
    "n_out = 10"
   ]
  },
  {
   "cell_type": "code",
   "execution_count": 62,
   "metadata": {},
   "outputs": [],
   "source": [
    "X_tr, Y_tr = train_input, train_target\n",
    "X_test, Y_test = test_input, test_target"
   ]
  },
  {
   "cell_type": "code",
   "execution_count": 63,
   "metadata": {},
   "outputs": [],
   "source": [
    "class MLP(nn.Module):\n",
    "    def __init__(self):\n",
    "        super().__init__()\n",
    "        self.layers = nn.ModuleList((\n",
    "            nn.Linear(in_features=n_in, out_features=n_hidden, bias=True),\n",
    "            nn.Tanh(),\n",
    "            nn.Linear(in_features=n_hidden, out_features=n_out, bias=True),\n",
    "            nn.Tanh()\n",
    "        ))\n",
    "\n",
    "    def __call__(self, x):\n",
    "        for layer in self.layers:\n",
    "            x = layer(x)\n",
    "        return x\n",
    "    \n",
    "    def __parameters__(self):\n",
    "        return [p for layer in self.layers for p in layer.parameters]\n",
    "\n",
    "model = MLP()\n",
    "optimizer = torch.optim.AdamW(model.parameters(), lr=1e-3)\n",
    "loss_fn = nn.MSELoss()"
   ]
  },
  {
   "cell_type": "code",
   "execution_count": 65,
   "metadata": {},
   "outputs": [
    {
     "name": "stdout",
     "output_type": "stream",
     "text": [
      "step =      0\tloss=0.14427\taccuracy (train, test): 0.10200\t0.13000\n",
      "step =   1000\tloss=0.00005\taccuracy (train, test): 1.00000\t0.85200\n",
      "step =   2000\tloss=0.00001\taccuracy (train, test): 1.00000\t0.85300\n",
      "step =   3000\tloss=0.00017\taccuracy (train, test): 1.00000\t0.85200\n",
      "step =   4000\tloss=0.00009\taccuracy (train, test): 1.00000\t0.85600\n",
      "step =   5000\tloss=0.00002\taccuracy (train, test): 1.00000\t0.85400\n",
      "step =   6000\tloss=0.00007\taccuracy (train, test): 1.00000\t0.85500\n",
      "step =   7000\tloss=0.00000\taccuracy (train, test): 1.00000\t0.86000\n",
      "step =   8000\tloss=0.00003\taccuracy (train, test): 1.00000\t0.86100\n",
      "step =   9000\tloss=0.00006\taccuracy (train, test): 1.00000\t0.86000\n"
     ]
    }
   ],
   "source": [
    "# training\n",
    "num_epochs = 10000\n",
    "\n",
    "for n in range(num_epochs):\n",
    "    y_pred = model(X_tr)\n",
    "    loss = loss_fn(y_pred, Y_tr)\n",
    "    optimizer.zero_grad()\n",
    "    loss.backward()\n",
    "    optimizer.step()\n",
    "    if n % 1000 == 0: \n",
    "        with torch.no_grad():\n",
    "            # train accuracy\n",
    "            acc_train = compute_accuracy(y_pred, Y_tr)\n",
    "            # test accuracy\n",
    "            y_test_preds = model(X_test)\n",
    "            acc_test = compute_accuracy(y_test_preds, Y_test)\n",
    "            print(f'step = {n:6d}\\tloss={loss.item():.5f}\\taccuracy (train, test): {acc_train:.5f}\\t{acc_test:.5f}')\n"
   ]
  },
  {
   "cell_type": "markdown",
   "metadata": {},
   "source": [
    "##### Exercise: try to improve accuracy!"
   ]
  },
  {
   "cell_type": "code",
   "execution_count": 72,
   "metadata": {},
   "outputs": [
    {
     "name": "stdout",
     "output_type": "stream",
     "text": [
      "step =      0\tloss=0.05945\taccuracy (train, test): 0.10900\t0.10400\n",
      "step =   1000\tloss=0.00247\taccuracy (train, test): 1.00000\t0.86200\n",
      "step =   2000\tloss=0.00171\taccuracy (train, test): 1.00000\t0.87800\n",
      "step =   3000\tloss=0.00160\taccuracy (train, test): 0.99900\t0.86100\n",
      "step =   4000\tloss=0.00162\taccuracy (train, test): 0.99900\t0.87600\n",
      "step =   5000\tloss=0.00139\taccuracy (train, test): 1.00000\t0.86400\n",
      "step =   6000\tloss=0.00144\taccuracy (train, test): 0.99900\t0.87300\n",
      "step =   7000\tloss=0.00137\taccuracy (train, test): 1.00000\t0.86600\n",
      "acc_train=1.0\n",
      "acc_test=0.8659999966621399\n",
      "Your Network has been trained!\n"
     ]
    }
   ],
   "source": [
    "# network dimensions\n",
    "n_in = 784\n",
    "n_hidden1 = 500\n",
    "n_hidden2 = 250\n",
    "n_hidden3 = 125\n",
    "n_hidden4 = 50\n",
    "n_out = 10\n",
    "\n",
    "X_tr, Y_tr = train_input, train_target\n",
    "X_test, Y_test = test_input, test_target\n",
    "\n",
    "class MLP(nn.Module):\n",
    "    def __init__(self):\n",
    "        super().__init__()\n",
    "        self.layers = nn.ModuleList((\n",
    "            nn.Linear(in_features=n_in, out_features=n_hidden1, bias=True),\n",
    "            nn.ReLU(),\n",
    "            nn.Dropout(),\n",
    "            nn.Linear(in_features=n_hidden1, out_features=n_hidden2, bias=True),\n",
    "            nn.ReLU(),\n",
    "            nn.Dropout(),\n",
    "            nn.Linear(in_features=n_hidden2, out_features=n_hidden3, bias=True),\n",
    "            nn.ReLU(),\n",
    "            nn.Dropout(),\n",
    "            nn.Linear(in_features=n_hidden3, out_features=n_hidden4, bias=True),\n",
    "            nn.ReLU(),\n",
    "            nn.Dropout(),\n",
    "            nn.Linear(in_features=n_hidden4, out_features=n_out, bias=True),\n",
    "            nn.Softmax(dim=1)\n",
    "        ))\n",
    "\n",
    "    def __call__(self, x):\n",
    "        for layer in self.layers:\n",
    "            x = layer(x)\n",
    "        return x\n",
    "    \n",
    "    def __parameters__(self):\n",
    "        return [p for layer in self.layers for p in layer.parameters]\n",
    "\n",
    "model = MLP()\n",
    "optimizer = torch.optim.AdamW(model.parameters(), lr=1e-3)\n",
    "loss_fn = nn.MSELoss()\n",
    "\n",
    "def train_my_network(nb_epochs=20**3):\n",
    "    for n in range(nb_epochs):\n",
    "        y_pred = model(X_tr)\n",
    "        loss = loss_fn(y_pred, Y_tr)\n",
    "        optimizer.zero_grad()\n",
    "        loss.backward()\n",
    "        optimizer.step()\n",
    "        if n % 1000 == 0: \n",
    "            with torch.no_grad():\n",
    "                # train accuracy\n",
    "                acc_train = compute_accuracy(y_pred, Y_tr)\n",
    "                # test accuracy\n",
    "                y_test_preds = model(X_test)\n",
    "                acc_test = compute_accuracy(y_test_preds, Y_test)\n",
    "                print(f'step = {n:6d}\\tloss={loss.item():.5f}\\taccuracy (train, test): {acc_train:.5f}\\t{acc_test:.5f}')\n",
    "    \n",
    "    print(f'{acc_train=}')\n",
    "    print(f'{acc_test=}')\n",
    "    print(\"Your Network has been trained!\")\n",
    "\n",
    "train_my_network()"
   ]
  },
  {
   "cell_type": "code",
   "execution_count": null,
   "metadata": {},
   "outputs": [],
   "source": []
  }
 ],
 "metadata": {
  "kernelspec": {
   "display_name": "env",
   "language": "python",
   "name": "python3"
  },
  "language_info": {
   "codemirror_mode": {
    "name": "ipython",
    "version": 3
   },
   "file_extension": ".py",
   "mimetype": "text/x-python",
   "name": "python",
   "nbconvert_exporter": "python",
   "pygments_lexer": "ipython3",
   "version": "3.12.4"
  }
 },
 "nbformat": 4,
 "nbformat_minor": 2
}
