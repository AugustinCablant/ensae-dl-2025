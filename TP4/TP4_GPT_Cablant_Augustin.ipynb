{
  "nbformat": 4,
  "nbformat_minor": 0,
  "metadata": {
    "colab": {
      "provenance": [],
      "gpuType": "T4"
    },
    "kernelspec": {
      "name": "python3",
      "display_name": "Python 3"
    },
    "language_info": {
      "name": "python"
    },
    "accelerator": "GPU"
  },
  "cells": [
    {
      "cell_type": "code",
      "execution_count": 1,
      "metadata": {
        "colab": {
          "base_uri": "https://localhost:8080/"
        },
        "id": "340T9buqzXvl",
        "outputId": "cef05946-27c0-45bc-bab0-2a8dea5d304c"
      },
      "outputs": [
        {
          "output_type": "stream",
          "name": "stdout",
          "text": [
            "--2025-03-06 10:32:24--  https://raw.githubusercontent.com/olivkoch/ensae-dl-2025/main/session-4/input.txt\n",
            "Resolving raw.githubusercontent.com (raw.githubusercontent.com)... 185.199.108.133, 185.199.110.133, 185.199.111.133, ...\n",
            "Connecting to raw.githubusercontent.com (raw.githubusercontent.com)|185.199.108.133|:443... connected.\n",
            "HTTP request sent, awaiting response... 200 OK\n",
            "Length: 1115394 (1.1M) [text/plain]\n",
            "Saving to: ‘input.txt’\n",
            "\n",
            "input.txt           100%[===================>]   1.06M  --.-KB/s    in 0.06s   \n",
            "\n",
            "2025-03-06 10:32:24 (18.9 MB/s) - ‘input.txt’ saved [1115394/1115394]\n",
            "\n",
            "10786625\n"
          ]
        },
        {
          "output_type": "stream",
          "name": "stderr",
          "text": [
            "\r  0%|          | 0/5000 [00:00<?, ?it/s]"
          ]
        },
        {
          "output_type": "stream",
          "name": "stdout",
          "text": [
            "step=0: train loss = 4.2764, val loss = 4.2737\n"
          ]
        },
        {
          "output_type": "stream",
          "name": "stderr",
          "text": [
            "  6%|▌         | 301/5000 [04:31<27:01:20, 20.70s/it]"
          ]
        },
        {
          "output_type": "stream",
          "name": "stdout",
          "text": [
            "step=300: train loss = 2.3181, val loss = 2.3433\n"
          ]
        },
        {
          "output_type": "stream",
          "name": "stderr",
          "text": [
            " 12%|█▏        | 601/5000 [07:57<25:10:49, 20.61s/it]"
          ]
        },
        {
          "output_type": "stream",
          "name": "stdout",
          "text": [
            "step=600: train loss = 1.8789, val loss = 1.9967\n"
          ]
        },
        {
          "output_type": "stream",
          "name": "stderr",
          "text": [
            " 18%|█▊        | 901/5000 [11:21<23:26:30, 20.59s/it]"
          ]
        },
        {
          "output_type": "stream",
          "name": "stdout",
          "text": [
            "step=900: train loss = 1.6232, val loss = 1.7966\n"
          ]
        },
        {
          "output_type": "stream",
          "name": "stderr",
          "text": [
            " 24%|██▍       | 1201/5000 [14:47<21:43:36, 20.59s/it]"
          ]
        },
        {
          "output_type": "stream",
          "name": "stdout",
          "text": [
            "step=1200: train loss = 1.4852, val loss = 1.6986\n"
          ]
        },
        {
          "output_type": "stream",
          "name": "stderr",
          "text": [
            " 30%|███       | 1501/5000 [18:12<20:06:41, 20.69s/it]"
          ]
        },
        {
          "output_type": "stream",
          "name": "stdout",
          "text": [
            "step=1500: train loss = 1.3990, val loss = 1.6297\n"
          ]
        },
        {
          "output_type": "stream",
          "name": "stderr",
          "text": [
            " 36%|███▌      | 1801/5000 [21:37<18:15:41, 20.55s/it]"
          ]
        },
        {
          "output_type": "stream",
          "name": "stdout",
          "text": [
            "step=1800: train loss = 1.3361, val loss = 1.5893\n"
          ]
        },
        {
          "output_type": "stream",
          "name": "stderr",
          "text": [
            " 42%|████▏     | 2101/5000 [25:01<16:36:35, 20.63s/it]"
          ]
        },
        {
          "output_type": "stream",
          "name": "stdout",
          "text": [
            "step=2100: train loss = 1.2789, val loss = 1.5655\n"
          ]
        },
        {
          "output_type": "stream",
          "name": "stderr",
          "text": [
            " 48%|████▊     | 2401/5000 [28:26<14:53:22, 20.62s/it]"
          ]
        },
        {
          "output_type": "stream",
          "name": "stdout",
          "text": [
            "step=2400: train loss = 1.2364, val loss = 1.5576\n"
          ]
        },
        {
          "output_type": "stream",
          "name": "stderr",
          "text": [
            " 54%|█████▍    | 2701/5000 [31:51<13:07:18, 20.55s/it]"
          ]
        },
        {
          "output_type": "stream",
          "name": "stdout",
          "text": [
            "step=2700: train loss = 1.1969, val loss = 1.5632\n"
          ]
        },
        {
          "output_type": "stream",
          "name": "stderr",
          "text": [
            " 60%|██████    | 3001/5000 [35:16<11:26:18, 20.60s/it]"
          ]
        },
        {
          "output_type": "stream",
          "name": "stdout",
          "text": [
            "step=3000: train loss = 1.1531, val loss = 1.5732\n"
          ]
        },
        {
          "output_type": "stream",
          "name": "stderr",
          "text": [
            " 66%|██████▌   | 3301/5000 [38:41<9:42:59, 20.59s/it]"
          ]
        },
        {
          "output_type": "stream",
          "name": "stdout",
          "text": [
            "step=3300: train loss = 1.1107, val loss = 1.5803\n"
          ]
        },
        {
          "output_type": "stream",
          "name": "stderr",
          "text": [
            " 72%|███████▏  | 3601/5000 [42:06<8:00:46, 20.62s/it]"
          ]
        },
        {
          "output_type": "stream",
          "name": "stdout",
          "text": [
            "step=3600: train loss = 1.0658, val loss = 1.6034\n"
          ]
        },
        {
          "output_type": "stream",
          "name": "stderr",
          "text": [
            " 78%|███████▊  | 3901/5000 [45:30<6:16:29, 20.55s/it]"
          ]
        },
        {
          "output_type": "stream",
          "name": "stdout",
          "text": [
            "step=3900: train loss = 1.0146, val loss = 1.6532\n"
          ]
        },
        {
          "output_type": "stream",
          "name": "stderr",
          "text": [
            " 84%|████████▍ | 4201/5000 [48:55<4:34:43, 20.63s/it]"
          ]
        },
        {
          "output_type": "stream",
          "name": "stdout",
          "text": [
            "step=4200: train loss = 0.9608, val loss = 1.6997\n"
          ]
        },
        {
          "output_type": "stream",
          "name": "stderr",
          "text": [
            " 90%|█████████ | 4501/5000 [52:20<2:51:54, 20.67s/it]"
          ]
        },
        {
          "output_type": "stream",
          "name": "stdout",
          "text": [
            "step=4500: train loss = 0.9008, val loss = 1.7610\n"
          ]
        },
        {
          "output_type": "stream",
          "name": "stderr",
          "text": [
            " 96%|█████████▌| 4801/5000 [55:45<1:08:06, 20.54s/it]"
          ]
        },
        {
          "output_type": "stream",
          "name": "stdout",
          "text": [
            "step=4800: train loss = 0.8337, val loss = 1.8721\n"
          ]
        },
        {
          "output_type": "stream",
          "name": "stderr",
          "text": [
            "100%|██████████| 5000/5000 [57:15<00:00,  1.46it/s]\n"
          ]
        },
        {
          "output_type": "stream",
          "name": "stdout",
          "text": [
            "\n",
            "\n",
            "NORTHUMBERLAND:\n",
            "No, in good time, here comes the grace of your happiness.\n",
            "\n",
            "Nurse:\n",
            "I tell you, sir, \n"
          ]
        }
      ],
      "source": [
        "import torch\n",
        "import torch.nn as nn\n",
        "from torch.nn import functional as F\n",
        "from tqdm import tqdm\n",
        "#!pip install sympy --upgrade\n",
        "# final results with this code\n",
        "# step=4800: train loss = 1.0883, val loss = 1.4908\n",
        "# LARTIUS:\n",
        "# Now Mars, they love me.\n",
        "\n",
        "# LARTIUS:\n",
        "# Yeven altood my opprovoty.\n",
        "\n",
        "# MARIANA:\n",
        "# Traitor, I will hang\n",
        "\n",
        "batch_size = 64 # how many independent sequences will we process in parallel?\n",
        "block_size = 256 # what is the maximum context length for predictions?\n",
        "max_iters = 5000\n",
        "eval_interval = 300\n",
        "learning_rate = 3e-4\n",
        "device = 'cuda' if torch.cuda.is_available() else 'cpu'\n",
        "eval_iters = 200\n",
        "n_embd = 384\n",
        "n_heads = 6\n",
        "n_layer = 6\n",
        "dropout = .2\n",
        "\n",
        "torch.manual_seed(1337)\n",
        "!wget -O input.txt \"https://raw.githubusercontent.com/olivkoch/ensae-dl-2025/main/session-4/input.txt\"\n",
        "with open('input.txt', 'r', encoding='utf-8') as f:\n",
        "    text = f.read()\n",
        "\n",
        "# create vocabulary\n",
        "chars = sorted(list(set(text)))\n",
        "vocab_size = len(chars)\n",
        "\n",
        "# create a mapping from characters to integers\n",
        "stoi = { ch:i for i,ch in enumerate(chars) }\n",
        "itos = { i:ch for i,ch in enumerate(chars) }\n",
        "encode = lambda s: [stoi[c] for c in s] # encoder: take a string, output a list of integers\n",
        "decode = lambda l: ''.join([itos[i] for i in l]) # decoder: take a list of integers, output a string\n",
        "data = torch.tensor(encode(text), dtype=torch.long)\n",
        "\n",
        "# Let's now split up the data into train and validation sets\n",
        "n = int(0.9*len(data)) # first 90% will be train, rest val\n",
        "train_data = data[:n]\n",
        "val_data = data[n:]\n",
        "\n",
        "def get_batch(split):\n",
        "    # generate a small batch of data of inputs x and targets y\n",
        "    data = train_data if split == 'train' else val_data\n",
        "    ix = torch.randint(len(data) - block_size, (batch_size,))\n",
        "    x = torch.stack([data[i:i+block_size] for i in ix]).to(device)\n",
        "    y = torch.stack([data[i+1:i+block_size+1] for i in ix]).to(device)\n",
        "    return x, y\n",
        "\n",
        "@torch.no_grad()\n",
        "def estimate_loss():\n",
        "    out = {}\n",
        "    model.eval()\n",
        "    for split in ['train','val']:\n",
        "        losses = torch.zeros(eval_iters)\n",
        "        for k in range(eval_iters):\n",
        "            X, Y = get_batch(split)\n",
        "            _, loss = model(X, Y)\n",
        "            losses[k] = loss\n",
        "        out[split] = losses.mean()\n",
        "    model.train()\n",
        "    return out\n",
        "\n",
        "# Copy your Head, MultiHeadAttention, FeedForward and Block classes here\n",
        "\n",
        "class Head(nn.Module):\n",
        "    def __init__(self, head_size):\n",
        "        super().__init__()\n",
        "        self.K = nn.Linear(n_embd, head_size, bias=False)\n",
        "        self.Q = nn.Linear(n_embd, head_size, bias=False)\n",
        "        self.V = nn.Linear(n_embd, head_size, bias=False)\n",
        "        #self.register_buffer('tril', torch.tril(torch.ones(block_size, block_size))) # store a persistent buffer for the forward pass\n",
        "\n",
        "    def forward (self, x):\n",
        "        B, T, C = x.shape\n",
        "        K = self.K(x)\n",
        "        Q = self.Q(x)\n",
        "        V = self.V(x)\n",
        "        dot_product = Q @ K.transpose(-2, -1) * C**-0.5\n",
        "        tril = torch.tril(torch.ones(T, T, device=x.device))\n",
        "        dot_product = dot_product.masked_fill(tril == 0, float('-inf')) # apply the mask\n",
        "        S = F.softmax(dot_product, dim=-1)\n",
        "        out = S @ V\n",
        "        return out\n",
        "\n",
        "class MultiHeadAttention(nn.Module):\n",
        "    def __init__(self, num_heads, head_size):\n",
        "        super().__init__()\n",
        "        self.heads = nn.ModuleList([Head(head_size) for _ in range(num_heads)])\n",
        "        self.linear = nn.Linear(num_heads * head_size, n_embd, bias=False)\n",
        "\n",
        "    def forward (self, x):\n",
        "        out = torch.cat([h(x) for h in self.heads], dim=-1)\n",
        "        return out\n",
        "\n",
        "class FeedForward(nn.Module):\n",
        "    \"\"\" a simple linear layer followed by a non-linearity \"\"\"\n",
        "    def __init__(self, n_embd):\n",
        "        super().__init__()\n",
        "        self.linear1 = nn.Linear(n_embd, 4 * n_embd)\n",
        "        self.relu = nn.ReLU()\n",
        "        self.linear2 = nn.Linear(4 * n_embd, n_embd)\n",
        "\n",
        "    def forward(self, x):\n",
        "        out = self.linear1(x)\n",
        "        out = self.relu(out)\n",
        "        out = self.linear2(out)\n",
        "        return out\n",
        "\n",
        "class Block(nn.Module):\n",
        "    def __init__(self, n_embd, n_head):\n",
        "        super().__init__()\n",
        "        head_size = n_embd // n_head\n",
        "        self.norm1 = nn.LayerNorm(n_embd)\n",
        "        self.norm2 = nn.LayerNorm(n_embd)\n",
        "        self.attn = MultiHeadAttention(n_head, head_size)\n",
        "        self.ff = FeedForward(n_embd)\n",
        "\n",
        "    def forward(self, x):\n",
        "        out = self.norm1(x)\n",
        "        out = self.attn(out)\n",
        "        out = out + x\n",
        "        out = self.norm2(out)\n",
        "        out = self.ff(out)\n",
        "        out = out + x\n",
        "        return out\n",
        "\n",
        "\n",
        "class GPT(nn.Module):\n",
        "    def __init__(self):\n",
        "        super().__init__()\n",
        "        self.token_embedding_table = nn.Embedding(vocab_size, n_embd)\n",
        "        self.pos_embedding_table = nn.Embedding(block_size, n_embd)\n",
        "        # define blocks, a layer norm and a linear layer\n",
        "        self.blocks = nn.ModuleList([Block(n_embd, n_heads) for _ in range(n_layer)])\n",
        "        self.norm = nn.LayerNorm(n_embd)\n",
        "        self.linear = nn.Linear(n_embd, vocab_size)\n",
        "\n",
        "    def forward(self, idx, targets=None):\n",
        "        B, T = idx.shape\n",
        "        token_emb = self.token_embedding_table(idx) # (B,T,C)\n",
        "        pos_emb = self.pos_embedding_table(torch.arange(T, device=device)) # (T, C)\n",
        "        x = token_emb + pos_emb # sum the token embeddings and position embeddings\n",
        "        # apply blocks, layer norm and linear layer (leading to the logits variable)\n",
        "        for block in self.blocks:\n",
        "            x = block(x)\n",
        "        x = self.norm(x)\n",
        "        logits = self.linear(x)\n",
        "\n",
        "        # do not modify the rest of the method (it computes the loss during the forward pass)\n",
        "        if targets is None:\n",
        "            loss = None\n",
        "        else:\n",
        "            # idx and targets are both (B,T) tensor of integers\n",
        "            B, T, C = logits.shape\n",
        "            logits = logits.view (B*T, C)\n",
        "            targets = targets.view(B*T)\n",
        "            loss = F.cross_entropy(logits, targets)\n",
        "        return logits, loss\n",
        "\n",
        "    def generate(self, idx, max_new_tokens):\n",
        "            # idx is (B, T) array of indices in the current context\n",
        "            for _ in range(max_new_tokens):\n",
        "                # crop idx to the last block size tokens\n",
        "                idx_cond = idx[:, -block_size:]\n",
        "                # get the predictions\n",
        "                logits, loss = self(idx_cond)\n",
        "                # focus only on the last time step\n",
        "                logits = logits[:, -1, :] # becomes (B, C)\n",
        "                # apply softmax to get probabilities\n",
        "                probs = F.softmax(logits, dim=-1) # (B, C)\n",
        "                # sample from the distribution\n",
        "                idx_next = torch.multinomial(probs, num_samples=1) # (B, 1)\n",
        "                # append sampled index to the running sequence\n",
        "                idx = torch.cat((idx, idx_next), dim=1) # (B, T+1)\n",
        "            return idx\n",
        "\n",
        "model = GPT()\n",
        "m = model.to(device)\n",
        "print(sum([p.numel() for p in m.parameters()]))\n",
        "optimizer = torch.optim.AdamW(m.parameters(), lr=learning_rate)\n",
        "\n",
        "# training loop\n",
        "for iter in tqdm(range(max_iters)): # increase number of steps for good results...\n",
        "\n",
        "    # evaluate once in a while\n",
        "    if iter % eval_interval == 0:\n",
        "        losses = estimate_loss()\n",
        "        print (f\"step={iter}: train loss = {losses['train']:.4f}, val loss = {losses['val']:.4f}\")\n",
        "\n",
        "    # sample a batch of data\n",
        "    xb, yb = get_batch('train')\n",
        "\n",
        "    # evaluate the loss\n",
        "    logits, loss = m(xb, yb)\n",
        "    optimizer.zero_grad(set_to_none=True)\n",
        "    loss.backward()\n",
        "    optimizer.step()\n",
        "\n",
        "# generate some text\n",
        "context = torch.zeros((1, 1), dtype=torch.long, device=device)\n",
        "print(decode(m.generate(idx = context, max_new_tokens=100)[0].tolist()))"
      ]
    },
    {
      "cell_type": "code",
      "source": [],
      "metadata": {
        "id": "0QFr47zYd1EO"
      },
      "execution_count": null,
      "outputs": []
    }
  ]
}